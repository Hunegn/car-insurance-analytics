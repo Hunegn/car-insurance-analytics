{
 "cells": [
  {
   "cell_type": "code",
   "execution_count": 2,
   "metadata": {},
   "outputs": [],
   "source": [
    "import pandas as pd\n",
    "import numpy as np\n",
    "from scipy.stats import ttest_ind, chi2_contingency"
   ]
  },
  {
   "cell_type": "code",
   "execution_count": 15,
   "metadata": {},
   "outputs": [],
   "source": [
    "import sys\n",
    "import os\n",
    "sys.path.append(os.path.abspath('../'))"
   ]
  },
  {
   "cell_type": "code",
   "execution_count": 3,
   "metadata": {},
   "outputs": [
    {
     "name": "stderr",
     "output_type": "stream",
     "text": [
      "/tmp/ipykernel_11500/2860124314.py:3: DtypeWarning: Columns (32) have mixed types. Specify dtype option on import or set low_memory=False.\n",
      "  data = pd.read_csv(file_path)\n"
     ]
    }
   ],
   "source": [
    "from scripts.ab_testing import ABTesting\n",
    "file_path = \"/home/hunegna/10x/10x_projects/car-insurance-analytics/Data/clean/cleaned_insurance_data.csv\"\n",
    "data = pd.read_csv(file_path)\n",
    "ab_testing = ABTesting(data)"
   ]
  },
  {
   "cell_type": "code",
   "execution_count": 4,
   "metadata": {},
   "outputs": [
    {
     "name": "stdout",
     "output_type": "stream",
     "text": [
      "\n",
      "Testing risk differences across provinces...\n",
      "Reject the null hypothesis. There are significant risk differences across provinces.\n"
     ]
    }
   ],
   "source": [
    "ab_testing.test_risk_across_provinces()"
   ]
  },
  {
   "cell_type": "code",
   "execution_count": null,
   "metadata": {},
   "outputs": [
    {
     "name": "stdout",
     "output_type": "stream",
     "text": [
      "\n",
      "Testing margin differences between zip codes...\n",
      "Fail to reject the null hypothesis. There are no significant margin differences between zip codes.\n"
     ]
    }
   ],
   "source": [
    "ab_testing.test_margin_difference_zipcodes()\n"
   ]
  },
  {
   "cell_type": "code",
   "execution_count": 6,
   "metadata": {},
   "outputs": [
    {
     "name": "stdout",
     "output_type": "stream",
     "text": [
      "\n",
      "Testing risk differences between zip codes...\n",
      "Reject the null hypothesis. There are significant risk differences between zip codes.\n"
     ]
    }
   ],
   "source": [
    "ab_testing.test_risk_between_zipcodes()"
   ]
  },
  {
   "cell_type": "code",
   "execution_count": 7,
   "metadata": {},
   "outputs": [
    {
     "name": "stdout",
     "output_type": "stream",
     "text": [
      "\n",
      "Testing risk differences between genders...\n",
      "Reject the null hypothesis. There are significant risk differences between genders.\n"
     ]
    }
   ],
   "source": [
    "ab_testing.test_risk_by_gender()"
   ]
  },
  {
   "cell_type": "code",
   "execution_count": 8,
   "metadata": {},
   "outputs": [
    {
     "name": "stdout",
     "output_type": "stream",
     "text": [
      "\n",
      "Testing risk differences across provinces...\n",
      "Reject the null hypothesis. There are significant risk differences across provinces.\n",
      "\n",
      "Testing risk differences between zip codes...\n",
      "Reject the null hypothesis. There are significant risk differences between zip codes.\n",
      "\n",
      "Testing margin differences between zip codes...\n",
      "Fail to reject the null hypothesis. There are no significant margin differences between zip codes.\n",
      "\n",
      "Testing risk differences between genders...\n",
      "Reject the null hypothesis. There are significant risk differences between genders.\n"
     ]
    }
   ],
   "source": [
    "ab_testing.perform_all_tests()"
   ]
  },
  {
   "cell_type": "code",
   "execution_count": null,
   "metadata": {},
   "outputs": [],
   "source": []
  }
 ],
 "metadata": {
  "kernelspec": {
   "display_name": "env3",
   "language": "python",
   "name": "python3"
  },
  "language_info": {
   "codemirror_mode": {
    "name": "ipython",
    "version": 3
   },
   "file_extension": ".py",
   "mimetype": "text/x-python",
   "name": "python",
   "nbconvert_exporter": "python",
   "pygments_lexer": "ipython3",
   "version": "3.11.7"
  }
 },
 "nbformat": 4,
 "nbformat_minor": 2
}
